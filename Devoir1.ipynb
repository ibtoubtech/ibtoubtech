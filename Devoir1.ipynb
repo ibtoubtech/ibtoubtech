{
  "nbformat": 4,
  "nbformat_minor": 0,
  "metadata": {
    "colab": {
      "provenance": [],
      "authorship_tag": "ABX9TyOQZBpk3mvs6dJlcYz3GOiH",
      "include_colab_link": true
    },
    "kernelspec": {
      "name": "python3",
      "display_name": "Python 3"
    },
    "language_info": {
      "name": "python"
    }
  },
  "cells": [
    {
      "cell_type": "markdown",
      "metadata": {
        "id": "view-in-github",
        "colab_type": "text"
      },
      "source": [
        "<a href=\"https://colab.research.google.com/github/ibtoubtech/ibtoubtech/blob/main/Devoir1.ipynb\" target=\"_parent\"><img src=\"https://colab.research.google.com/assets/colab-badge.svg\" alt=\"Open In Colab\"/></a>"
      ]
    },
    {
      "cell_type": "code",
      "execution_count": null,
      "metadata": {
        "id": "Q3fJrG2JHhMa"
      },
      "outputs": [],
      "source": [
        "import pandas as pd\n",
        "import numpy as np\n",
        "import matplotlib.pyplot as plt\n",
        "import seaborn as sns\n",
        "from sklearn.model_selection import train_test_split, cross_val_score, GridSearchCV\n",
        "from sklearn.preprocessing import LabelEncoder, StandardScaler\n",
        "from sklearn.tree import DecisionTreeClassifier\n",
        "from sklearn.ensemble import RandomForestClassifier\n",
        "from xgboost import XGBClassifier\n",
        "from sklearn.metrics import classification_report, confusion_matrix"
      ]
    },
    {
      "cell_type": "markdown",
      "source": [
        "# Chargement des données"
      ],
      "metadata": {
        "id": "81EGdfDrIMqN"
      }
    },
    {
      "cell_type": "code",
      "source": [
        "train_df = pd.read_csv('/content/dataset/train.csv')\n",
        "test_df = pd.read_csv('/content/dataset/test.csv')"
      ],
      "metadata": {
        "id": "yFZ0T2tLIQ2X"
      },
      "execution_count": null,
      "outputs": []
    },
    {
      "cell_type": "markdown",
      "source": [
        "# Exploration initiale"
      ],
      "metadata": {
        "id": "mYyVbK7AKOOI"
      }
    },
    {
      "cell_type": "code",
      "source": [
        "def explore_data(df):\n",
        "    print(\"\\nAperçu des données:\")\n",
        "    print(df.head())\n",
        "    print(\"\\nInformations générales:\")\n",
        "    print(df.info())\n",
        "    print(\"\\nStatistiques descriptives:\")\n",
        "    print(df.describe())\n",
        "\n",
        "explore_data(train_df)"
      ],
      "metadata": {
        "colab": {
          "base_uri": "https://localhost:8080/"
        },
        "id": "jorbsHTnKPTV",
        "outputId": "784dca56-1e28-464e-f91c-daa9a0e7a408"
      },
      "execution_count": null,
      "outputs": [
        {
          "output_type": "stream",
          "name": "stdout",
          "text": [
            "\n",
            "Aperçu des données:\n",
            "   tBodyAcc-mean()-X  tBodyAcc-mean()-Y  tBodyAcc-mean()-Z  tBodyAcc-std()-X  \\\n",
            "0           0.288585          -0.020294          -0.132905         -0.995279   \n",
            "1           0.278419          -0.016411          -0.123520         -0.998245   \n",
            "2           0.279653          -0.019467          -0.113462         -0.995380   \n",
            "3           0.279174          -0.026201          -0.123283         -0.996091   \n",
            "4           0.276629          -0.016570          -0.115362         -0.998139   \n",
            "\n",
            "   tBodyAcc-std()-Y  tBodyAcc-std()-Z  tBodyAcc-mad()-X  tBodyAcc-mad()-Y  \\\n",
            "0         -0.983111         -0.913526         -0.995112         -0.983185   \n",
            "1         -0.975300         -0.960322         -0.998807         -0.974914   \n",
            "2         -0.967187         -0.978944         -0.996520         -0.963668   \n",
            "3         -0.983403         -0.990675         -0.997099         -0.982750   \n",
            "4         -0.980817         -0.990482         -0.998321         -0.979672   \n",
            "\n",
            "   tBodyAcc-mad()-Z  tBodyAcc-max()-X  ...  fBodyBodyGyroJerkMag-kurtosis()  \\\n",
            "0         -0.923527         -0.934724  ...                        -0.710304   \n",
            "1         -0.957686         -0.943068  ...                        -0.861499   \n",
            "2         -0.977469         -0.938692  ...                        -0.760104   \n",
            "3         -0.989302         -0.938692  ...                        -0.482845   \n",
            "4         -0.990441         -0.942469  ...                        -0.699205   \n",
            "\n",
            "   angle(tBodyAccMean,gravity)  angle(tBodyAccJerkMean),gravityMean)  \\\n",
            "0                    -0.112754                              0.030400   \n",
            "1                     0.053477                             -0.007435   \n",
            "2                    -0.118559                              0.177899   \n",
            "3                    -0.036788                             -0.012892   \n",
            "4                     0.123320                              0.122542   \n",
            "\n",
            "   angle(tBodyGyroMean,gravityMean)  angle(tBodyGyroJerkMean,gravityMean)  \\\n",
            "0                         -0.464761                             -0.018446   \n",
            "1                         -0.732626                              0.703511   \n",
            "2                          0.100699                              0.808529   \n",
            "3                          0.640011                             -0.485366   \n",
            "4                          0.693578                             -0.615971   \n",
            "\n",
            "   angle(X,gravityMean)  angle(Y,gravityMean)  angle(Z,gravityMean)  subject  \\\n",
            "0             -0.841247              0.179941             -0.058627      1.0   \n",
            "1             -0.844788              0.180289             -0.054317      1.0   \n",
            "2             -0.848933              0.180637             -0.049118      1.0   \n",
            "3             -0.848649              0.181935             -0.047663      1.0   \n",
            "4             -0.847865              0.185151             -0.043892      1.0   \n",
            "\n",
            "   Activity  \n",
            "0  STANDING  \n",
            "1  STANDING  \n",
            "2  STANDING  \n",
            "3  STANDING  \n",
            "4  STANDING  \n",
            "\n",
            "[5 rows x 563 columns]\n",
            "\n",
            "Informations générales:\n",
            "<class 'pandas.core.frame.DataFrame'>\n",
            "RangeIndex: 6087 entries, 0 to 6086\n",
            "Columns: 563 entries, tBodyAcc-mean()-X to Activity\n",
            "dtypes: float64(562), object(1)\n",
            "memory usage: 26.1+ MB\n",
            "None\n",
            "\n",
            "Statistiques descriptives:\n",
            "       tBodyAcc-mean()-X  tBodyAcc-mean()-Y  tBodyAcc-mean()-Z  \\\n",
            "count        6087.000000        6087.000000        6087.000000   \n",
            "mean            0.273913          -0.017575          -0.109220   \n",
            "std             0.072886           0.043526           0.059109   \n",
            "min            -1.000000          -1.000000          -1.000000   \n",
            "25%             0.262454          -0.024871          -0.121179   \n",
            "50%             0.277128          -0.017182          -0.108715   \n",
            "75%             0.288609          -0.010404          -0.097647   \n",
            "max             1.000000           1.000000           1.000000   \n",
            "\n",
            "       tBodyAcc-std()-X  tBodyAcc-std()-Y  tBodyAcc-std()-Z  tBodyAcc-mad()-X  \\\n",
            "count       6087.000000       6087.000000       6087.000000       6087.000000   \n",
            "mean          -0.603821         -0.500543         -0.604885         -0.628136   \n",
            "std            0.452459          0.514530          0.421577          0.428499   \n",
            "min           -1.000000         -0.999873         -1.000000         -1.000000   \n",
            "25%           -0.992784         -0.978291         -0.980066         -0.993647   \n",
            "50%           -0.944419         -0.853679         -0.858743         -0.948501   \n",
            "75%           -0.245962         -0.004190         -0.275686         -0.293241   \n",
            "max            1.000000          0.916238          1.000000          1.000000   \n",
            "\n",
            "       tBodyAcc-mad()-Y  tBodyAcc-mad()-Z  tBodyAcc-max()-X  ...  \\\n",
            "count       6087.000000       6087.000000       6087.000000  ...   \n",
            "mean          -0.516797         -0.606543         -0.473065  ...   \n",
            "std            0.497577          0.415425          0.542867  ...   \n",
            "min           -1.000000         -0.999879         -1.000000  ...   \n",
            "25%           -0.978377         -0.979973         -0.936348  ...   \n",
            "50%           -0.860588         -0.854324         -0.881484  ...   \n",
            "75%           -0.036065         -0.277371         -0.031543  ...   \n",
            "max            0.967664          1.000000          1.000000  ...   \n",
            "\n",
            "       fBodyBodyGyroJerkMag-skewness()  fBodyBodyGyroJerkMag-kurtosis()  \\\n",
            "count                      6086.000000                      6086.000000   \n",
            "mean                         -0.302334                        -0.619764   \n",
            "std                           0.326521                         0.315681   \n",
            "min                          -0.956082                        -0.999595   \n",
            "25%                          -0.542224                        -0.845581   \n",
            "50%                          -0.348004                        -0.713157   \n",
            "75%                          -0.119463                        -0.490875   \n",
            "max                           0.989538                         0.956845   \n",
            "\n",
            "       angle(tBodyAccMean,gravity)  angle(tBodyAccJerkMean),gravityMean)  \\\n",
            "count                  6086.000000                           6086.000000   \n",
            "mean                      0.009002                              0.001874   \n",
            "std                       0.334570                              0.448974   \n",
            "min                      -0.976580                             -1.000000   \n",
            "25%                      -0.118407                             -0.288154   \n",
            "50%                       0.009133                              0.007732   \n",
            "75%                       0.145834                              0.291924   \n",
            "max                       1.000000                              1.000000   \n",
            "\n",
            "       angle(tBodyGyroMean,gravityMean)  angle(tBodyGyroJerkMean,gravityMean)  \\\n",
            "count                       6086.000000                           6086.000000   \n",
            "mean                           0.006769                             -0.003133   \n",
            "std                            0.610177                              0.481046   \n",
            "min                           -1.000000                             -1.000000   \n",
            "25%                           -0.485135                             -0.378161   \n",
            "50%                            0.004927                              0.003739   \n",
            "75%                            0.504464                              0.368838   \n",
            "max                            0.995769                              0.996078   \n",
            "\n",
            "       angle(X,gravityMean)  angle(Y,gravityMean)  angle(Z,gravityMean)  \\\n",
            "count           6086.000000           6086.000000           6086.000000   \n",
            "mean              -0.487682              0.057030             -0.055472   \n",
            "std                0.504551              0.304256              0.274302   \n",
            "min               -1.000000             -1.000000             -1.000000   \n",
            "25%               -0.805941             -0.022199             -0.135899   \n",
            "50%               -0.699102              0.183692              0.006231   \n",
            "75%               -0.497351              0.253306              0.122657   \n",
            "max                1.000000              0.478157              0.488889   \n",
            "\n",
            "           subject  \n",
            "count  6086.000000  \n",
            "mean     15.054223  \n",
            "std       8.048478  \n",
            "min       1.000000  \n",
            "25%       7.000000  \n",
            "50%      16.000000  \n",
            "75%      22.000000  \n",
            "max      27.000000  \n",
            "\n",
            "[8 rows x 562 columns]\n"
          ]
        }
      ]
    },
    {
      "cell_type": "markdown",
      "source": [
        "# Suppression de la colonne 'subject' si non nécessaire"
      ],
      "metadata": {
        "id": "L_FJR2a0KchB"
      }
    },
    {
      "cell_type": "code",
      "source": [
        "if 'subject' in train_df.columns:\n",
        "    train_df.drop(columns=['subject'], inplace=True)\n",
        "    test_df.drop(columns=['subject'], inplace=True)"
      ],
      "metadata": {
        "id": "0Zz7pK98KiA7"
      },
      "execution_count": null,
      "outputs": []
    },
    {
      "cell_type": "markdown",
      "source": [
        "# Encodage de la variable cible"
      ],
      "metadata": {
        "id": "zWXEDVXZKprY"
      }
    },
    {
      "cell_type": "code",
      "source": [
        "label_encoder = LabelEncoder()\n",
        "train_df['Activity'] = label_encoder.fit_transform(train_df['Activity'])\n",
        "test_df['Activity'] = label_encoder.transform(test_df['Activity'])"
      ],
      "metadata": {
        "id": "TR2BgI0zKt1c"
      },
      "execution_count": null,
      "outputs": []
    },
    {
      "cell_type": "markdown",
      "source": [
        "# Séparation des features et des labels"
      ],
      "metadata": {
        "id": "EVSQDJWYLDRL"
      }
    },
    {
      "cell_type": "code",
      "source": [
        "X_train = train_df.drop(columns=['Activity'])\n",
        "y_train = train_df['Activity']\n",
        "X_test = test_df.drop(columns=['Activity'])\n",
        "y_test = test_df['Activity']"
      ],
      "metadata": {
        "id": "zLhcvvKGLH3_"
      },
      "execution_count": null,
      "outputs": []
    },
    {
      "cell_type": "markdown",
      "source": [
        "# Normalisation des données"
      ],
      "metadata": {
        "id": "QeWDqARELs72"
      }
    },
    {
      "cell_type": "code",
      "source": [
        "scaler = StandardScaler()\n",
        "X_train = scaler.fit_transform(X_train)\n",
        "X_test = scaler.transform(X_test)"
      ],
      "metadata": {
        "id": "7mz8btZULuW8"
      },
      "execution_count": null,
      "outputs": []
    },
    {
      "cell_type": "markdown",
      "source": [
        "# Initialisation des modèles"
      ],
      "metadata": {
        "id": "vvUHKYF2L6qE"
      }
    },
    {
      "cell_type": "code",
      "source": [
        "models = {\n",
        "    'Decision Tree': DecisionTreeClassifier(),\n",
        "    'Random Forest': RandomForestClassifier(),\n",
        "    'XGBoost': XGBClassifier(use_label_encoder=False, eval_metric='mlogloss')\n",
        "}"
      ],
      "metadata": {
        "id": "C1cphyfnL75B"
      },
      "execution_count": null,
      "outputs": []
    },
    {
      "cell_type": "markdown",
      "source": [
        "# Entraînement et validation croisée"
      ],
      "metadata": {
        "id": "o6IeEWLcMGuj"
      }
    },
    {
      "cell_type": "code",
      "source": [
        "for name, model in models.items():\n",
        "    scores = cross_val_score(model, X_train, y_train, cv=3, scoring='accuracy')\n",
        "    print(f\"\\n{name} - Précision moyenne en validation croisée: {scores.mean():.4f}\")\n",
        "    model.fit(X_train, y_train)\n",
        "    y_pred = model.predict(X_test)\n",
        "    print(f\"\\nRapport de classification pour {name}:\")\n",
        "    print(classification_report(y_test, y_pred))\n",
        "    print(\"\\nMatrice de confusion:\")\n",
        "    print(confusion_matrix(y_test, y_pred))"
      ],
      "metadata": {
        "colab": {
          "base_uri": "https://localhost:8080/",
          "height": 1000
        },
        "id": "Hvxmg3-DMIBz",
        "outputId": "a3df4d99-1fab-43bc-b963-f8c6a995f222"
      },
      "execution_count": null,
      "outputs": [
        {
          "output_type": "stream",
          "name": "stderr",
          "text": [
            "/usr/local/lib/python3.11/dist-packages/sklearn/model_selection/_split.py:805: UserWarning: The least populated class in y has only 1 members, which is less than n_splits=3.\n",
            "  warnings.warn(\n"
          ]
        },
        {
          "output_type": "stream",
          "name": "stdout",
          "text": [
            "\n",
            "Decision Tree - Précision moyenne en validation croisée: 0.8466\n",
            "\n",
            "Rapport de classification pour Decision Tree:\n",
            "              precision    recall  f1-score   support\n",
            "\n",
            "           0       1.00      1.00      1.00       537\n",
            "           1       0.82      0.80      0.81       491\n",
            "           2       0.82      0.83      0.83       532\n",
            "           3       0.79      0.89      0.84       496\n",
            "           4       0.85      0.82      0.83       420\n",
            "           5       0.79      0.71      0.75       471\n",
            "\n",
            "    accuracy                           0.85      2947\n",
            "   macro avg       0.85      0.84      0.84      2947\n",
            "weighted avg       0.85      0.85      0.85      2947\n",
            "\n",
            "\n",
            "Matrice de confusion:\n",
            "[[537   0   0   0   0   0]\n",
            " [  0 394  97   0   0   0]\n",
            " [  0  89 443   0   0   0]\n",
            " [  0   0   0 443  27  26]\n",
            " [  0   0   0  15 344  61]\n",
            " [  0   0   0 102  34 335]]\n"
          ]
        },
        {
          "output_type": "stream",
          "name": "stderr",
          "text": [
            "/usr/local/lib/python3.11/dist-packages/sklearn/model_selection/_split.py:805: UserWarning: The least populated class in y has only 1 members, which is less than n_splits=3.\n",
            "  warnings.warn(\n"
          ]
        },
        {
          "output_type": "stream",
          "name": "stdout",
          "text": [
            "\n",
            "Random Forest - Précision moyenne en validation croisée: 0.8939\n",
            "\n",
            "Rapport de classification pour Random Forest:\n",
            "              precision    recall  f1-score   support\n",
            "\n",
            "           0       1.00      1.00      1.00       537\n",
            "           1       0.87      0.87      0.87       491\n",
            "           2       0.88      0.88      0.88       532\n",
            "           3       0.90      0.97      0.93       496\n",
            "           4       0.95      0.84      0.89       420\n",
            "           5       0.89      0.92      0.91       471\n",
            "\n",
            "    accuracy                           0.92      2947\n",
            "   macro avg       0.92      0.91      0.91      2947\n",
            "weighted avg       0.92      0.92      0.92      2947\n",
            "\n",
            "\n",
            "Matrice de confusion:\n",
            "[[537   0   0   0   0   0]\n",
            " [  0 425  66   0   0   0]\n",
            " [  0  61 470   1   0   0]\n",
            " [  0   0   0 480  10   6]\n",
            " [  0   0   0  22 353  45]\n",
            " [  0   0   0  30   7 434]]\n"
          ]
        },
        {
          "output_type": "error",
          "ename": "AttributeError",
          "evalue": "'super' object has no attribute '__sklearn_tags__'",
          "traceback": [
            "\u001b[0;31m---------------------------------------------------------------------------\u001b[0m",
            "\u001b[0;31mAttributeError\u001b[0m                            Traceback (most recent call last)",
            "\u001b[0;32m<ipython-input-11-404416a5d269>\u001b[0m in \u001b[0;36m<cell line: 0>\u001b[0;34m()\u001b[0m\n\u001b[1;32m      1\u001b[0m \u001b[0;32mfor\u001b[0m \u001b[0mname\u001b[0m\u001b[0;34m,\u001b[0m \u001b[0mmodel\u001b[0m \u001b[0;32min\u001b[0m \u001b[0mmodels\u001b[0m\u001b[0;34m.\u001b[0m\u001b[0mitems\u001b[0m\u001b[0;34m(\u001b[0m\u001b[0;34m)\u001b[0m\u001b[0;34m:\u001b[0m\u001b[0;34m\u001b[0m\u001b[0;34m\u001b[0m\u001b[0m\n\u001b[0;32m----> 2\u001b[0;31m     \u001b[0mscores\u001b[0m \u001b[0;34m=\u001b[0m \u001b[0mcross_val_score\u001b[0m\u001b[0;34m(\u001b[0m\u001b[0mmodel\u001b[0m\u001b[0;34m,\u001b[0m \u001b[0mX_train\u001b[0m\u001b[0;34m,\u001b[0m \u001b[0my_train\u001b[0m\u001b[0;34m,\u001b[0m \u001b[0mcv\u001b[0m\u001b[0;34m=\u001b[0m\u001b[0;36m3\u001b[0m\u001b[0;34m,\u001b[0m \u001b[0mscoring\u001b[0m\u001b[0;34m=\u001b[0m\u001b[0;34m'accuracy'\u001b[0m\u001b[0;34m)\u001b[0m\u001b[0;34m\u001b[0m\u001b[0;34m\u001b[0m\u001b[0m\n\u001b[0m\u001b[1;32m      3\u001b[0m     \u001b[0mprint\u001b[0m\u001b[0;34m(\u001b[0m\u001b[0;34mf\"\\n{name} - Précision moyenne en validation croisée: {scores.mean():.4f}\"\u001b[0m\u001b[0;34m)\u001b[0m\u001b[0;34m\u001b[0m\u001b[0;34m\u001b[0m\u001b[0m\n\u001b[1;32m      4\u001b[0m     \u001b[0mmodel\u001b[0m\u001b[0;34m.\u001b[0m\u001b[0mfit\u001b[0m\u001b[0;34m(\u001b[0m\u001b[0mX_train\u001b[0m\u001b[0;34m,\u001b[0m \u001b[0my_train\u001b[0m\u001b[0;34m)\u001b[0m\u001b[0;34m\u001b[0m\u001b[0;34m\u001b[0m\u001b[0m\n\u001b[1;32m      5\u001b[0m     \u001b[0my_pred\u001b[0m \u001b[0;34m=\u001b[0m \u001b[0mmodel\u001b[0m\u001b[0;34m.\u001b[0m\u001b[0mpredict\u001b[0m\u001b[0;34m(\u001b[0m\u001b[0mX_test\u001b[0m\u001b[0;34m)\u001b[0m\u001b[0;34m\u001b[0m\u001b[0;34m\u001b[0m\u001b[0m\n",
            "\u001b[0;32m/usr/local/lib/python3.11/dist-packages/sklearn/utils/_param_validation.py\u001b[0m in \u001b[0;36mwrapper\u001b[0;34m(*args, **kwargs)\u001b[0m\n\u001b[1;32m    214\u001b[0m                     )\n\u001b[1;32m    215\u001b[0m                 ):\n\u001b[0;32m--> 216\u001b[0;31m                     \u001b[0;32mreturn\u001b[0m \u001b[0mfunc\u001b[0m\u001b[0;34m(\u001b[0m\u001b[0;34m*\u001b[0m\u001b[0margs\u001b[0m\u001b[0;34m,\u001b[0m \u001b[0;34m**\u001b[0m\u001b[0mkwargs\u001b[0m\u001b[0;34m)\u001b[0m\u001b[0;34m\u001b[0m\u001b[0;34m\u001b[0m\u001b[0m\n\u001b[0m\u001b[1;32m    217\u001b[0m             \u001b[0;32mexcept\u001b[0m \u001b[0mInvalidParameterError\u001b[0m \u001b[0;32mas\u001b[0m \u001b[0me\u001b[0m\u001b[0;34m:\u001b[0m\u001b[0;34m\u001b[0m\u001b[0;34m\u001b[0m\u001b[0m\n\u001b[1;32m    218\u001b[0m                 \u001b[0;31m# When the function is just a wrapper around an estimator, we allow\u001b[0m\u001b[0;34m\u001b[0m\u001b[0;34m\u001b[0m\u001b[0m\n",
            "\u001b[0;32m/usr/local/lib/python3.11/dist-packages/sklearn/model_selection/_validation.py\u001b[0m in \u001b[0;36mcross_val_score\u001b[0;34m(estimator, X, y, groups, scoring, cv, n_jobs, verbose, params, pre_dispatch, error_score)\u001b[0m\n\u001b[1;32m    682\u001b[0m     \u001b[0mscorer\u001b[0m \u001b[0;34m=\u001b[0m \u001b[0mcheck_scoring\u001b[0m\u001b[0;34m(\u001b[0m\u001b[0mestimator\u001b[0m\u001b[0;34m,\u001b[0m \u001b[0mscoring\u001b[0m\u001b[0;34m=\u001b[0m\u001b[0mscoring\u001b[0m\u001b[0;34m)\u001b[0m\u001b[0;34m\u001b[0m\u001b[0;34m\u001b[0m\u001b[0m\n\u001b[1;32m    683\u001b[0m \u001b[0;34m\u001b[0m\u001b[0m\n\u001b[0;32m--> 684\u001b[0;31m     cv_results = cross_validate(\n\u001b[0m\u001b[1;32m    685\u001b[0m         \u001b[0mestimator\u001b[0m\u001b[0;34m=\u001b[0m\u001b[0mestimator\u001b[0m\u001b[0;34m,\u001b[0m\u001b[0;34m\u001b[0m\u001b[0;34m\u001b[0m\u001b[0m\n\u001b[1;32m    686\u001b[0m         \u001b[0mX\u001b[0m\u001b[0;34m=\u001b[0m\u001b[0mX\u001b[0m\u001b[0;34m,\u001b[0m\u001b[0;34m\u001b[0m\u001b[0;34m\u001b[0m\u001b[0m\n",
            "\u001b[0;32m/usr/local/lib/python3.11/dist-packages/sklearn/utils/_param_validation.py\u001b[0m in \u001b[0;36mwrapper\u001b[0;34m(*args, **kwargs)\u001b[0m\n\u001b[1;32m    214\u001b[0m                     )\n\u001b[1;32m    215\u001b[0m                 ):\n\u001b[0;32m--> 216\u001b[0;31m                     \u001b[0;32mreturn\u001b[0m \u001b[0mfunc\u001b[0m\u001b[0;34m(\u001b[0m\u001b[0;34m*\u001b[0m\u001b[0margs\u001b[0m\u001b[0;34m,\u001b[0m \u001b[0;34m**\u001b[0m\u001b[0mkwargs\u001b[0m\u001b[0;34m)\u001b[0m\u001b[0;34m\u001b[0m\u001b[0;34m\u001b[0m\u001b[0m\n\u001b[0m\u001b[1;32m    217\u001b[0m             \u001b[0;32mexcept\u001b[0m \u001b[0mInvalidParameterError\u001b[0m \u001b[0;32mas\u001b[0m \u001b[0me\u001b[0m\u001b[0;34m:\u001b[0m\u001b[0;34m\u001b[0m\u001b[0;34m\u001b[0m\u001b[0m\n\u001b[1;32m    218\u001b[0m                 \u001b[0;31m# When the function is just a wrapper around an estimator, we allow\u001b[0m\u001b[0;34m\u001b[0m\u001b[0;34m\u001b[0m\u001b[0m\n",
            "\u001b[0;32m/usr/local/lib/python3.11/dist-packages/sklearn/model_selection/_validation.py\u001b[0m in \u001b[0;36mcross_validate\u001b[0;34m(estimator, X, y, groups, scoring, cv, n_jobs, verbose, params, pre_dispatch, return_train_score, return_estimator, return_indices, error_score)\u001b[0m\n\u001b[1;32m    345\u001b[0m     \u001b[0mX\u001b[0m\u001b[0;34m,\u001b[0m \u001b[0my\u001b[0m \u001b[0;34m=\u001b[0m \u001b[0mindexable\u001b[0m\u001b[0;34m(\u001b[0m\u001b[0mX\u001b[0m\u001b[0;34m,\u001b[0m \u001b[0my\u001b[0m\u001b[0;34m)\u001b[0m\u001b[0;34m\u001b[0m\u001b[0;34m\u001b[0m\u001b[0m\n\u001b[1;32m    346\u001b[0m     \u001b[0mparams\u001b[0m \u001b[0;34m=\u001b[0m \u001b[0;34m{\u001b[0m\u001b[0;34m}\u001b[0m \u001b[0;32mif\u001b[0m \u001b[0mparams\u001b[0m \u001b[0;32mis\u001b[0m \u001b[0;32mNone\u001b[0m \u001b[0;32melse\u001b[0m \u001b[0mparams\u001b[0m\u001b[0;34m\u001b[0m\u001b[0;34m\u001b[0m\u001b[0m\n\u001b[0;32m--> 347\u001b[0;31m     \u001b[0mcv\u001b[0m \u001b[0;34m=\u001b[0m \u001b[0mcheck_cv\u001b[0m\u001b[0;34m(\u001b[0m\u001b[0mcv\u001b[0m\u001b[0;34m,\u001b[0m \u001b[0my\u001b[0m\u001b[0;34m,\u001b[0m \u001b[0mclassifier\u001b[0m\u001b[0;34m=\u001b[0m\u001b[0mis_classifier\u001b[0m\u001b[0;34m(\u001b[0m\u001b[0mestimator\u001b[0m\u001b[0;34m)\u001b[0m\u001b[0;34m)\u001b[0m\u001b[0;34m\u001b[0m\u001b[0;34m\u001b[0m\u001b[0m\n\u001b[0m\u001b[1;32m    348\u001b[0m \u001b[0;34m\u001b[0m\u001b[0m\n\u001b[1;32m    349\u001b[0m     scorers = check_scoring(\n",
            "\u001b[0;32m/usr/local/lib/python3.11/dist-packages/sklearn/base.py\u001b[0m in \u001b[0;36mis_classifier\u001b[0;34m(estimator)\u001b[0m\n\u001b[1;32m   1235\u001b[0m         \u001b[0;32mreturn\u001b[0m \u001b[0mgetattr\u001b[0m\u001b[0;34m(\u001b[0m\u001b[0mestimator\u001b[0m\u001b[0;34m,\u001b[0m \u001b[0;34m\"_estimator_type\"\u001b[0m\u001b[0;34m,\u001b[0m \u001b[0;32mNone\u001b[0m\u001b[0;34m)\u001b[0m \u001b[0;34m==\u001b[0m \u001b[0;34m\"classifier\"\u001b[0m\u001b[0;34m\u001b[0m\u001b[0;34m\u001b[0m\u001b[0m\n\u001b[1;32m   1236\u001b[0m \u001b[0;34m\u001b[0m\u001b[0m\n\u001b[0;32m-> 1237\u001b[0;31m     \u001b[0;32mreturn\u001b[0m \u001b[0mget_tags\u001b[0m\u001b[0;34m(\u001b[0m\u001b[0mestimator\u001b[0m\u001b[0;34m)\u001b[0m\u001b[0;34m.\u001b[0m\u001b[0mestimator_type\u001b[0m \u001b[0;34m==\u001b[0m \u001b[0;34m\"classifier\"\u001b[0m\u001b[0;34m\u001b[0m\u001b[0;34m\u001b[0m\u001b[0m\n\u001b[0m\u001b[1;32m   1238\u001b[0m \u001b[0;34m\u001b[0m\u001b[0m\n\u001b[1;32m   1239\u001b[0m \u001b[0;34m\u001b[0m\u001b[0m\n",
            "\u001b[0;32m/usr/local/lib/python3.11/dist-packages/sklearn/utils/_tags.py\u001b[0m in \u001b[0;36mget_tags\u001b[0;34m(estimator)\u001b[0m\n\u001b[1;32m    428\u001b[0m         \u001b[0;32mfor\u001b[0m \u001b[0mklass\u001b[0m \u001b[0;32min\u001b[0m \u001b[0mreversed\u001b[0m\u001b[0;34m(\u001b[0m\u001b[0mtype\u001b[0m\u001b[0;34m(\u001b[0m\u001b[0mestimator\u001b[0m\u001b[0;34m)\u001b[0m\u001b[0;34m.\u001b[0m\u001b[0mmro\u001b[0m\u001b[0;34m(\u001b[0m\u001b[0;34m)\u001b[0m\u001b[0;34m)\u001b[0m\u001b[0;34m:\u001b[0m\u001b[0;34m\u001b[0m\u001b[0;34m\u001b[0m\u001b[0m\n\u001b[1;32m    429\u001b[0m             \u001b[0;32mif\u001b[0m \u001b[0;34m\"__sklearn_tags__\"\u001b[0m \u001b[0;32min\u001b[0m \u001b[0mvars\u001b[0m\u001b[0;34m(\u001b[0m\u001b[0mklass\u001b[0m\u001b[0;34m)\u001b[0m\u001b[0;34m:\u001b[0m\u001b[0;34m\u001b[0m\u001b[0;34m\u001b[0m\u001b[0m\n\u001b[0;32m--> 430\u001b[0;31m                 \u001b[0msklearn_tags_provider\u001b[0m\u001b[0;34m[\u001b[0m\u001b[0mklass\u001b[0m\u001b[0;34m]\u001b[0m \u001b[0;34m=\u001b[0m \u001b[0mklass\u001b[0m\u001b[0;34m.\u001b[0m\u001b[0m__sklearn_tags__\u001b[0m\u001b[0;34m(\u001b[0m\u001b[0mestimator\u001b[0m\u001b[0;34m)\u001b[0m  \u001b[0;31m# type: ignore[attr-defined]\u001b[0m\u001b[0;34m\u001b[0m\u001b[0;34m\u001b[0m\u001b[0m\n\u001b[0m\u001b[1;32m    431\u001b[0m                 \u001b[0mclass_order\u001b[0m\u001b[0;34m.\u001b[0m\u001b[0mappend\u001b[0m\u001b[0;34m(\u001b[0m\u001b[0mklass\u001b[0m\u001b[0;34m)\u001b[0m\u001b[0;34m\u001b[0m\u001b[0;34m\u001b[0m\u001b[0m\n\u001b[1;32m    432\u001b[0m             \u001b[0;32melif\u001b[0m \u001b[0;34m\"_more_tags\"\u001b[0m \u001b[0;32min\u001b[0m \u001b[0mvars\u001b[0m\u001b[0;34m(\u001b[0m\u001b[0mklass\u001b[0m\u001b[0;34m)\u001b[0m\u001b[0;34m:\u001b[0m\u001b[0;34m\u001b[0m\u001b[0;34m\u001b[0m\u001b[0m\n",
            "\u001b[0;32m/usr/local/lib/python3.11/dist-packages/sklearn/base.py\u001b[0m in \u001b[0;36m__sklearn_tags__\u001b[0;34m(self)\u001b[0m\n\u001b[1;32m    538\u001b[0m \u001b[0;34m\u001b[0m\u001b[0m\n\u001b[1;32m    539\u001b[0m     \u001b[0;32mdef\u001b[0m \u001b[0m__sklearn_tags__\u001b[0m\u001b[0;34m(\u001b[0m\u001b[0mself\u001b[0m\u001b[0;34m)\u001b[0m\u001b[0;34m:\u001b[0m\u001b[0;34m\u001b[0m\u001b[0;34m\u001b[0m\u001b[0m\n\u001b[0;32m--> 540\u001b[0;31m         \u001b[0mtags\u001b[0m \u001b[0;34m=\u001b[0m \u001b[0msuper\u001b[0m\u001b[0;34m(\u001b[0m\u001b[0;34m)\u001b[0m\u001b[0;34m.\u001b[0m\u001b[0m__sklearn_tags__\u001b[0m\u001b[0;34m(\u001b[0m\u001b[0;34m)\u001b[0m\u001b[0;34m\u001b[0m\u001b[0;34m\u001b[0m\u001b[0m\n\u001b[0m\u001b[1;32m    541\u001b[0m         \u001b[0mtags\u001b[0m\u001b[0;34m.\u001b[0m\u001b[0mestimator_type\u001b[0m \u001b[0;34m=\u001b[0m \u001b[0;34m\"classifier\"\u001b[0m\u001b[0;34m\u001b[0m\u001b[0;34m\u001b[0m\u001b[0m\n\u001b[1;32m    542\u001b[0m         \u001b[0mtags\u001b[0m\u001b[0;34m.\u001b[0m\u001b[0mclassifier_tags\u001b[0m \u001b[0;34m=\u001b[0m \u001b[0mClassifierTags\u001b[0m\u001b[0;34m(\u001b[0m\u001b[0;34m)\u001b[0m\u001b[0;34m\u001b[0m\u001b[0;34m\u001b[0m\u001b[0m\n",
            "\u001b[0;31mAttributeError\u001b[0m: 'super' object has no attribute '__sklearn_tags__'"
          ]
        }
      ]
    }
  ]
}